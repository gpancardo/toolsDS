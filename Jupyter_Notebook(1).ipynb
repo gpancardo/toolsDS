{
 "cells": [
  {
   "cell_type": "markdown",
   "metadata": {},
   "source": [
    "<center>\n",
    "    <img src=\"https://cf-courses-data.s3.us.cloud-object-storage.appdomain.cloud/IBMDeveloperSkillsNetwork-DS0105EN-SkillsNetwork/labs/Module2/images/SN_web_lightmode.png\" width=\"300\" alt=\"cognitiveclass.ai logo\"  />\n",
    "</center>\n"
   ]
  },
  {
   "cell_type": "markdown",
   "metadata": {},
   "source": [
    "#### Add your code below following the instructions given in the course\n"
   ]
  },
  {
   "cell_type": "markdown",
   "metadata": {},
   "source": [
    "### My Jypyter Notebook on IBM Watson Studio"
   ]
  },
  {
   "cell_type": "markdown",
   "metadata": {},
   "source": [
    "Germán Pancardo\n",
    "\n",
    "\n",
    "**Computer Engineering Student**"
   ]
  },
  {
   "cell_type": "markdown",
   "metadata": {},
   "source": [
    "I would like to start a career in data science because it's a useful set of tool in most industries and would allow me to go into almost any sector."
   ]
  },
  {
   "cell_type": "markdown",
   "metadata": {},
   "source": [
    "<h3>My code will ask for your name and greet you!</h3>"
   ]
  },
  {
   "cell_type": "code",
   "execution_count": 6,
   "metadata": {},
   "outputs": [
    {
     "name": "stdin",
     "output_type": "stream",
     "text": [
      "What's your name?  John\n"
     ]
    },
    {
     "name": "stdout",
     "output_type": "stream",
     "text": [
      "Hi,  John\n"
     ]
    }
   ],
   "source": [
    "name=input(\"What's your name? \")\n",
    "print(\"Hi, \",name)"
   ]
  },
  {
   "cell_type": "markdown",
   "metadata": {},
   "source": [
    "Data related roles:\n",
    "\n",
    "<ul>\n",
    "    <li>Data Scientist</li>\n",
    "    <li>Data Analyst</li>\n",
    "    <li>Data Engineer</li>\n",
    "    <li>BI Analyst</li>\n",
    "</ul>\n",
    "\n",
    "Top 10 Better Countries for Data Scientists (<a href=\"https://www.careerera.com/blog/which-country-is-best-for-data-science-jobs\">source</a>):\n",
    "\n",
    "\n",
    "<ol>\n",
    "    <li>United States</li>\n",
    "    <li>Switzerland</li>\n",
    "    <li>United Kingdom</li>\n",
    "    <li>Australia</li>\n",
    "    <li>Israel</li>\n",
    "</ol>"
   ]
  },
  {
   "cell_type": "code",
   "execution_count": null,
   "metadata": {},
   "outputs": [],
   "source": []
  }
 ],
 "metadata": {
  "kernelspec": {
   "display_name": "Python",
   "language": "python",
   "name": "conda-env-python-py"
  },
  "language_info": {
   "codemirror_mode": {
    "name": "ipython",
    "version": 3
   },
   "file_extension": ".py",
   "mimetype": "text/x-python",
   "name": "python",
   "nbconvert_exporter": "python",
   "pygments_lexer": "ipython3",
   "version": "3.7.12"
  }
 },
 "nbformat": 4,
 "nbformat_minor": 4
}
